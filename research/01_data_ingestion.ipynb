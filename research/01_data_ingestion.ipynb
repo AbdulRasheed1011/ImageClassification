{
 "cells": [
  {
   "cell_type": "code",
   "execution_count": 41,
   "metadata": {},
   "outputs": [],
   "source": [
    "import os"
   ]
  },
  {
   "cell_type": "code",
   "execution_count": 45,
   "metadata": {},
   "outputs": [
    {
     "name": "stdout",
     "output_type": "stream",
     "text": [
      "/Users/abdulrasheed/Desktop/ImageClassification\n"
     ]
    }
   ],
   "source": [
    "cd abdulrasheed/Desktop/ImageClassification"
   ]
  },
  {
   "cell_type": "code",
   "execution_count": 46,
   "metadata": {},
   "outputs": [
    {
     "data": {
      "text/plain": [
       "'/Users/abdulrasheed/Desktop/ImageClassification'"
      ]
     },
     "execution_count": 46,
     "metadata": {},
     "output_type": "execute_result"
    }
   ],
   "source": [
    "%pwd"
   ]
  },
  {
   "cell_type": "code",
   "execution_count": 79,
   "metadata": {},
   "outputs": [],
   "source": [
    "# srouce/CNNClassifier/entity/config_entity.py\n",
    "\n",
    "from dataclasses import dataclass\n",
    "from pathlib import Path\n",
    "\n",
    "@dataclass(frozen=True)\n",
    "class DataIngestionConfig:\n",
    "    root_dir : Path\n",
    "    source_URL : str\n",
    "    local_data_file : Path\n",
    "    unzip_dir : Path"
   ]
  },
  {
   "cell_type": "code",
   "execution_count": 80,
   "metadata": {},
   "outputs": [],
   "source": [
    "# source/CNNClassfier/config/configuration.py\n",
    "\n",
    "from source.CNNClassifier.constant.__init_ import CONFIG_FILE_PATH, PARAMS_FILE_PATH\n",
    "from source.CNNClassifier.utils.common import read_yaml, create_directories"
   ]
  },
  {
   "cell_type": "code",
   "execution_count": 81,
   "metadata": {},
   "outputs": [],
   "source": [
    "class ConfigurationManager:\n",
    "    def __init__(\n",
    "        self,\n",
    "        config_filepath = CONFIG_FILE_PATH, # stores cofig file path 'config/config.yaml'\n",
    "        params_filepath = PARAMS_FILE_PATH): # stores params file path 'params.yaml'\n",
    "\n",
    "        self.config = read_yaml(config_filepath) # reads the config.yaml file\n",
    "        self.params = read_yaml(params_filepath) # reads the params.yaml file\n",
    "\n",
    "        create_directories([self.config.artifacts_root]) # creates artifacts folder 'artifacts_root : artifacts'\n",
    "\n",
    "    def get_data_ingestion_config(self) -> DataIngestionConfig:\n",
    "\n",
    "        config = self.config.data_ingestion # config stores artifacts/data_ingestion\n",
    "        # Accesses the data_ingestion section from the loaded configuration (self.config)\n",
    "        # This section comes from a YAML file (parsed earlier by the read_yaml function) and contains all settings related to data ingestion.\n",
    "\n",
    "\n",
    "        create_directories([config.root_dir]) # creates data_ingestion folder (root_dir : artifacts/data_ingestion)\n",
    "\n",
    "        data_ingestion_config = DataIngestionConfig(\n",
    "            root_dir = config.root_dir,              # artifacts/data_ingestion\n",
    "            source_URL = config.source_URL,          #'https://github.com/AbdulRasheed1011/ImagesData/blob/main/Images.zip'\n",
    "            local_data_file= config.local_data_file, # artifacts/data_ingestion/data.zip\n",
    "            unzip_dir = config.unzip_dir             # artifacts/data_ingestion\n",
    "        )\n",
    "\n",
    "        return data_ingestion_config             \n"
   ]
  },
  {
   "cell_type": "code",
   "execution_count": 82,
   "metadata": {},
   "outputs": [],
   "source": [
    "### Components data_ingestion.py"
   ]
  },
  {
   "cell_type": "code",
   "execution_count": 83,
   "metadata": {},
   "outputs": [],
   "source": [
    "import os\n",
    "import urllib.request as request\n",
    "import zipfile  \n",
    "from source.CNNClassifier import logger\n",
    "from source.CNNClassifier.utils.common import get_size"
   ]
  },
  {
   "cell_type": "code",
   "execution_count": 84,
   "metadata": {},
   "outputs": [],
   "source": [
    "class DataIngestion:\n",
    "    def __init__(self, config: DataIngestionConfig):\n",
    "        self.config = config \n",
    "\n",
    "    def download_file(self):\n",
    "        if not os.path.exists(self.config.local_data_file):\n",
    "            filename, header = request.urlretrieve(\n",
    "                url = self.config.source_URL,\n",
    "                filename = self.config.local_data_file\n",
    "\n",
    "            )\n",
    "            logger.info(f\"{filename} download! with following info: \\n{header}\")\n",
    "        else:\n",
    "            logger.info(f\"File already exists of size: {get_size(Path(self.config.local_data_file))}\")\n",
    "\n",
    "    def extract_zip_file(self):\n",
    "        \"\"\"\n",
    "        zip_file_path : str\n",
    "        extract zip file to data diretory\n",
    "        Function returns None\n",
    "        \"\"\"\n",
    "\n",
    "        unzip_path = self.config.unzip_dir\n",
    "        os.makedirs(unzip_path, exist_ok = True)\n",
    "        print(f\"File path: {self.config.local_data_file}\")\n",
    "\n",
    "        with zipfile.ZipFile(self.config.local_data_file, 'r') as zip_ref:\n",
    "            zip_ref.extractall(unzip_path)\n",
    "            logger.info(f\"Extracted zip file to {unzip_path}\") \n"
   ]
  },
  {
   "cell_type": "code",
   "execution_count": 85,
   "metadata": {},
   "outputs": [],
   "source": [
    "### pipeline"
   ]
  },
  {
   "cell_type": "code",
   "execution_count": 86,
   "metadata": {},
   "outputs": [
    {
     "name": "stdout",
     "output_type": "stream",
     "text": [
      "[2024-12-09 20:51:16,183: INFO: common: yaml file: config/config.yaml loaded successfully]\n",
      "[2024-12-09 20:51:16,186: INFO: common: yaml file: params.yaml loaded successfully]\n",
      "[2024-12-09 20:51:16,186: INFO: common: created directory at: artifacts]\n",
      "[2024-12-09 20:51:16,187: INFO: common: created directory at: artifacts/data_ingestion]\n",
      "[2024-12-09 20:51:17,689: INFO: 2873370200: artifacts/data_ingestion/data.zip download! with following info: \n",
      "Connection: close\n",
      "Content-Length: 67446398\n",
      "Cache-Control: max-age=300\n",
      "Content-Security-Policy: default-src 'none'; style-src 'unsafe-inline'; sandbox\n",
      "Content-Type: application/zip\n",
      "ETag: \"d5f5b4e21b3db22d19965753fd565933be473e744a85accaed9a02fc0a4925d4\"\n",
      "Strict-Transport-Security: max-age=31536000\n",
      "X-Content-Type-Options: nosniff\n",
      "X-Frame-Options: deny\n",
      "X-XSS-Protection: 1; mode=block\n",
      "X-GitHub-Request-Id: 268C:348C2A:1A3737:1D5388:6757ABD8\n",
      "Accept-Ranges: bytes\n",
      "Date: Tue, 10 Dec 2024 02:51:16 GMT\n",
      "Via: 1.1 varnish\n",
      "X-Served-By: cache-dfw-ktki8620040-DFW\n",
      "X-Cache: HIT\n",
      "X-Cache-Hits: 0\n",
      "X-Timer: S1733799076.291861,VS0,VE4\n",
      "Vary: Authorization,Accept-Encoding,Origin\n",
      "Access-Control-Allow-Origin: *\n",
      "Cross-Origin-Resource-Policy: cross-origin\n",
      "X-Fastly-Request-ID: f70335f4c3eca04571cd7aa331ae0a8288aeed47\n",
      "Expires: Tue, 10 Dec 2024 02:56:16 GMT\n",
      "Source-Age: 202\n",
      "\n",
      "]\n",
      "File path: artifacts/data_ingestion/data.zip\n",
      "[2024-12-09 20:51:20,460: INFO: 2873370200: Extracted zip file to artifacts/data_ingestion]\n"
     ]
    }
   ],
   "source": [
    "try:\n",
    "    config = ConfigurationManager()\n",
    "    data_ingestion_config = config.get_data_ingestion_config()\n",
    "    data_ingestion = DataIngestion(config = data_ingestion_config)\n",
    "    data_ingestion.download_file()\n",
    "    data_ingestion.extract_zip_file()\n",
    "except Exception as e:\n",
    "    raise e\n",
    "    logger.error(f\"Error during data ingestion: {str(e)}\")"
   ]
  },
  {
   "cell_type": "code",
   "execution_count": 88,
   "metadata": {},
   "outputs": [
    {
     "name": "stdout",
     "output_type": "stream",
     "text": [
      "Folder names in 'Images': ['cat', 'dog', 'men', 'women']\n"
     ]
    }
   ],
   "source": [
    "import os\n",
    "from typing import List\n",
    "\n",
    "def get_folder_names(directory_path: str) -> List[str]:\n",
    "    \"\"\"\n",
    "    Get all folder names in the given directory.\n",
    "\n",
    "    Parameters:\n",
    "        directory_path (str): Path to the directory.\n",
    "\n",
    "    Returns:\n",
    "        List[str]: List of folder names in the directory.\n",
    "    \"\"\"\n",
    "    if not os.path.exists(directory_path):\n",
    "        raise FileNotFoundError(f\"Directory {directory_path} does not exist.\")\n",
    "    \n",
    "    folder_names = [\n",
    "        entry for entry in os.listdir(directory_path) \n",
    "        if os.path.isdir(os.path.join(directory_path, entry))\n",
    "    ]\n",
    "    return folder_names\n",
    "\n",
    "if __name__ == \"__main__\":\n",
    "    # Define the path to the directory\n",
    "    images_dir = \"artifacts/data_ingestion/Images\"\n",
    "    \n",
    "    try:\n",
    "        # Get folder names\n",
    "        names_in_images = get_folder_names(images_dir)\n",
    "        print(\"Folder names in 'Images':\", names_in_images)\n",
    "    except Exception as e:\n",
    "        print(f\"An error occurred: {e}\")\n",
    "\n"
   ]
  },
  {
   "cell_type": "code",
   "execution_count": null,
   "metadata": {},
   "outputs": [],
   "source": []
  }
 ],
 "metadata": {
  "kernelspec": {
   "display_name": "virtualenviro",
   "language": "python",
   "name": "python3"
  },
  "language_info": {
   "codemirror_mode": {
    "name": "ipython",
    "version": 3
   },
   "file_extension": ".py",
   "mimetype": "text/x-python",
   "name": "python",
   "nbconvert_exporter": "python",
   "pygments_lexer": "ipython3",
   "version": "3.11.10"
  }
 },
 "nbformat": 4,
 "nbformat_minor": 2
}
